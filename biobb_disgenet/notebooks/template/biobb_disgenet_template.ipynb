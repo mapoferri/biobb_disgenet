{
 "cells": [
  {
   "cell_type": "markdown",
   "metadata": {},
   "source": [
    "# Common execution"
   ]
  },
  {
   "cell_type": "code",
   "execution_count": null,
   "metadata": {},
   "outputs": [],
   "source": [
    "# Activate the env before launching the templat\n",
    "# Remember to use the credentials that you have chosen for register in the DisGenet database"
   ]
  },
  {
   "cell_type": "code",
   "execution_count": 1,
   "metadata": {},
   "outputs": [],
   "source": [
    "# Create prop dict and inputs/outputs\n",
    "prop = {\n",
    "    \"disease_id\": \"C0002395\",\n",
    "    \"min_score\": \"0.2\",\n",
    "    \"max_score\": \"0.8\",\n",
    "    \"limit\":\"10\",\n",
    "    \"format\":\"json\"\n",
    "}\n",
    "\n",
    "retrieve_by = 'evidences'\n",
    "output_file_path = 'output_variant_disease_attributes'"
   ]
  },
  {
   "cell_type": "code",
   "execution_count": 2,
   "metadata": {},
   "outputs": [],
   "source": [
    "# Import module for Variant Disease attribute request\n",
    "from biobb_disgenet.disgenet.vda_disgenet import vda_disgenet"
   ]
  },
  {
   "cell_type": "code",
   "execution_count": 3,
   "metadata": {},
   "outputs": [
    {
     "name": "stdout",
     "output_type": "stream",
     "text": [
      "2022-01-18 16:42:41,009 [MainThread  ] [INFO ]  Request: vda/evidences/disease/C0002395\n",
      "E-mail:········\n",
      "Password:········\n",
      "This is your user API key: 104af876204bb6ee6ffaf8a4f01c5add5bead3fc\n",
      "2022-01-18 16:42:48,187 [MainThread  ] [INFO ]  Request https://www.disgenet.org/api/vda/evidences/disease/C0002395?min_score=0.2&max_score=0.8&limit=10&format=json launched, compiling\n",
      "2022-01-18 16:42:48,188 [MainThread  ] [INFO ]  Output file format: json\n",
      "2022-01-18 16:42:48,191 [MainThread  ] [INFO ]  Request: vda/evidences/disease/C0002395?min_score=0.2&max_score=0.8&limit=10&format=json\n",
      "2022-01-18 16:42:48,191 [MainThread  ] [INFO ]  Format json\n"
     ]
    }
   ],
   "source": [
    "# Create and launch bb based by the evidences in the database\n",
    "vda_disgenet(output_file_path=output_file_path, retrieve_by=retrieve_by, properties=prop)"
   ]
  },
  {
   "cell_type": "code",
   "execution_count": 6,
   "metadata": {},
   "outputs": [
    {
     "name": "stdout",
     "output_type": "stream",
     "text": [
      "{\r\n",
      "    \"count\": 5282,\r\n",
      "    \"next\": \"https://www.disgenet.org/api/vda/evidences/disease/C0002395?format=json&format=json&limit=10&max_score=0.8&max_score=0.8&min_score=0.2&min_score=0.2&offset=10\",\r\n",
      "    \"previous\": null,\r\n",
      "    \"results\": [\r\n",
      "        {\r\n",
      "            \"variant_id\": \"rs1007837\",\r\n",
      "            \"disease_id\": \"C0002395\",\r\n",
      "            \"gene_id\": 9846,\r\n",
      "            \"gene_symbol\": \"GAB2\",\r\n",
      "            \"disease_name\": \"Alzheimer's Disease\",\r\n",
      "            \"sentence\": \"GAB2 alleles modify Alzheimer's risk in APOE epsilon4 carriers.\",\r\n",
      "            \"associationtype\": \"GeneticVariation\",\r\n",
      "            \"source\": \"CURATED\",\r\n",
      "            \"pmid\": 17553421,\r\n",
      "            \"year\": 2007,\r\n",
      "            \"score\": 0.7\r\n",
      "        },\r\n",
      "        {\r\n",
      "            \"variant_id\": \"rs1007837\",\r\n",
      "            \"disease_id\": \"C0002395\",\r\n",
      "            \"gene_id\": 9846,\r\n",
      "            \"gene_symbol\": \"GAB2\",\r\n",
      "            \"disease_name\": \"Alzheimer's Disease\",\r\n",
      "            \"sentence\": \"GAB2 alleles modify Alzheimer's risk in APOE epsilon4 carriers.\",\r\n",
      "            \"associationtype\": \"GeneticVariation\",\r\n",
      "            \"source\": \"INFERRED\",\r\n",
      "            \"pmid\": 17553421,\r\n",
      "            \"year\": 2007,\r\n",
      "            \"score\": 0.7\r\n",
      "        },\r\n",
      "        {\r\n",
      "            \"variant_id\": \"rs1007837\",\r\n",
      "            \"disease_id\": \"C0002395\",\r\n",
      "            \"gene_id\": 9846,\r\n",
      "            \"gene_symbol\": \"GAB2\",\r\n",
      "            \"disease_name\": \"Alzheimer's Disease\",\r\n",
      "            \"sentence\": \"GAB2 alleles modify Alzheimer's risk in APOE epsilon4 carriers.\",\r\n",
      "            \"associationtype\": \"GeneticVariation\",\r\n",
      "            \"source\": \"ALL\",\r\n",
      "            \"pmid\": 17553421,\r\n",
      "            \"year\": 2007,\r\n",
      "            \"score\": 0.7\r\n",
      "        },\r\n",
      "        {\r\n",
      "            \"variant_id\": \"rs1007837\",\r\n",
      "            \"disease_id\": \"C0002395\",\r\n",
      "            \"gene_id\": 9846,\r\n",
      "            \"gene_symbol\": \"GAB2\",\r\n",
      "            \"disease_name\": \"Alzheimer's Disease\",\r\n",
      "            \"sentence\": \"GAB2 alleles modify Alzheimer's risk in APOE epsilon4 carriers.\",\r\n",
      "            \"associationtype\": \"GeneticVariation\",\r\n",
      "            \"source\": \"GWASDB\",\r\n",
      "            \"pmid\": 17553421,\r\n",
      "            \"year\": 2007,\r\n",
      "            \"score\": 0.7\r\n",
      "        },\r\n",
      "        {\r\n",
      "            \"variant_id\": \"rs10078434\",\r\n",
      "            \"disease_id\": \"C0002395\",\r\n",
      "            \"gene_id\": null,\r\n",
      "            \"gene_symbol\": null,\r\n",
      "            \"disease_name\": \"Alzheimer's Disease\",\r\n",
      "            \"sentence\": \"Genome-wide association study of Alzheimer's disease endophenotypes at prediagnosis stages.\",\r\n",
      "            \"associationtype\": \"GeneticVariation\",\r\n",
      "            \"source\": \"GWASCAT\",\r\n",
      "            \"pmid\": 29274321,\r\n",
      "            \"year\": 2018,\r\n",
      "            \"score\": 0.7\r\n",
      "        },\r\n",
      "        {\r\n",
      "            \"variant_id\": \"rs10078434\",\r\n",
      "            \"disease_id\": \"C0002395\",\r\n",
      "            \"gene_id\": null,\r\n",
      "            \"gene_symbol\": null,\r\n",
      "            \"disease_name\": \"Alzheimer's Disease\",\r\n",
      "            \"sentence\": \"Genome-wide association study of Alzheimer's disease endophenotypes at prediagnosis stages.\",\r\n",
      "            \"associationtype\": \"GeneticVariation\",\r\n",
      "            \"source\": \"ALL\",\r\n",
      "            \"pmid\": 29274321,\r\n",
      "            \"year\": 2018,\r\n",
      "            \"score\": 0.7\r\n",
      "        },\r\n",
      "        {\r\n",
      "            \"variant_id\": \"rs10078434\",\r\n",
      "            \"disease_id\": \"C0002395\",\r\n",
      "            \"gene_id\": null,\r\n",
      "            \"gene_symbol\": null,\r\n",
      "            \"disease_name\": \"Alzheimer's Disease\",\r\n",
      "            \"sentence\": \"Genome-wide association study of Alzheimer's disease endophenotypes at prediagnosis stages.\",\r\n",
      "            \"associationtype\": \"GeneticVariation\",\r\n",
      "            \"source\": \"CURATED\",\r\n",
      "            \"pmid\": 29274321,\r\n",
      "            \"year\": 2018,\r\n",
      "            \"score\": 0.7\r\n",
      "        },\r\n",
      "        {\r\n",
      "            \"variant_id\": \"rs10078434\",\r\n",
      "            \"disease_id\": \"C0002395\",\r\n",
      "            \"gene_id\": null,\r\n",
      "            \"gene_symbol\": null,\r\n",
      "            \"disease_name\": \"Alzheimer's Disease\",\r\n",
      "            \"sentence\": \"Genome-wide association study of Alzheimer's disease endophenotypes at prediagnosis stages.\",\r\n",
      "            \"associationtype\": \"GeneticVariation\",\r\n",
      "            \"source\": \"INFERRED\",\r\n",
      "            \"pmid\": 29274321,\r\n",
      "            \"year\": 2018,\r\n",
      "            \"score\": 0.7\r\n",
      "        },\r\n",
      "        {\r\n",
      "            \"variant_id\": \"rs10098778\",\r\n",
      "            \"disease_id\": \"C0002395\",\r\n",
      "            \"gene_id\": 137682,\r\n",
      "            \"gene_symbol\": \"NDUFAF6\",\r\n",
      "            \"disease_name\": \"Alzheimer's Disease\",\r\n",
      "            \"sentence\": \"Genome-wide association analysis of dementia and its clinical endophenotypes reveal novel loci associated with Alzheimer's disease and three causality networks: The GR@ACE project.\",\r\n",
      "            \"associationtype\": \"GeneticVariation\",\r\n",
      "            \"source\": \"GWASCAT\",\r\n",
      "            \"pmid\": 31473137,\r\n",
      "            \"year\": 2019,\r\n",
      "            \"score\": 0.7\r\n",
      "        },\r\n",
      "        {\r\n",
      "            \"variant_id\": \"rs10098778\",\r\n",
      "            \"disease_id\": \"C0002395\",\r\n",
      "            \"gene_id\": 137682,\r\n",
      "            \"gene_symbol\": \"NDUFAF6\",\r\n",
      "            \"disease_name\": \"Alzheimer's Disease\",\r\n",
      "            \"sentence\": \"Genome-wide association analysis of dementia and its clinical endophenotypes reveal novel loci associated with Alzheimer's disease and three causality networks: The GR@ACE project.\",\r\n",
      "            \"associationtype\": \"GeneticVariation\",\r\n",
      "            \"source\": \"CURATED\",\r\n",
      "            \"pmid\": 31473137,\r\n",
      "            \"year\": 2019,\r\n",
      "            \"score\": 0.7\r\n",
      "        }\r\n",
      "    ]\r\n",
      "}"
     ]
    }
   ],
   "source": [
    "# Show log\n",
    "!cat output_variant_disease_attributes.json"
   ]
  },
  {
   "cell_type": "code",
   "execution_count": null,
   "metadata": {},
   "outputs": [],
   "source": [
    "# Unzip output file\n",
    "#!unzip output.zip"
   ]
  },
  {
   "cell_type": "code",
   "execution_count": 7,
   "metadata": {},
   "outputs": [
    {
     "name": "stdout",
     "output_type": "stream",
     "text": [
      "total 64\r\n",
      "drwxr-xr-x 3 bscuser users  4096 ene 18 16:42 .\r\n",
      "drwxr-xr-x 3 bscuser users  4096 oct 13 01:00 ..\r\n",
      "-rw-r--r-- 1 bscuser users 20329 ene 18 16:40 biobb_disgenet_template.ipynb\r\n",
      "drwxr-xr-x 2 bscuser users  4096 ene 18 15:45 .ipynb_checkpoints\r\n",
      "-rw-r--r-- 1 bscuser users     0 ene 18 16:38 log1.err\r\n",
      "-rw-r--r-- 1 bscuser users    95 ene 18 16:38 log1.out\r\n",
      "-rw-r--r-- 1 bscuser users     0 ene 18 16:38 log2.err\r\n",
      "-rw-r--r-- 1 bscuser users    95 ene 18 16:38 log2.out\r\n",
      "-rw-r--r-- 1 bscuser users     0 ene 18 16:39 log3.err\r\n",
      "-rw-r--r-- 1 bscuser users    95 ene 18 16:39 log3.out\r\n",
      "-rw-r--r-- 1 bscuser users     0 ene 18 16:41 log4.err\r\n",
      "-rw-r--r-- 1 bscuser users    95 ene 18 16:41 log4.out\r\n",
      "-rw-r--r-- 1 bscuser users     0 ene 18 16:42 log5.err\r\n",
      "-rw-r--r-- 1 bscuser users   543 ene 18 16:42 log5.out\r\n",
      "-rw-r--r-- 1 bscuser users     0 ene 18 16:38 log.err\r\n",
      "-rw-r--r-- 1 bscuser users    95 ene 18 16:38 log.out\r\n",
      "-rw-r--r-- 1 bscuser users  5277 ene 18 16:42 output_variant_disease_attributes.json\r\n"
     ]
    }
   ],
   "source": [
    "# List folder content\n",
    "!ls -la"
   ]
  },
  {
   "cell_type": "markdown",
   "metadata": {},
   "source": [
    "### Other common executions"
   ]
  },
  {
   "cell_type": "code",
   "execution_count": 8,
   "metadata": {},
   "outputs": [],
   "source": [
    "# Setting up new prop and inputs/outputs\n",
    "prop = {\n",
    "        \"disease_id\":\"C0002395\",\n",
    "        \"limit\": \"10\",\n",
    "        \"format\": \"json\"\n",
    "        }\n",
    "\n",
    "output_file_path=\"output_disease_attribute\"\n",
    "retrieve_by=\"similarity\""
   ]
  },
  {
   "cell_type": "code",
   "execution_count": 9,
   "metadata": {},
   "outputs": [],
   "source": [
    "# Import the module for Disease attribute request\n",
    "from biobb_disgenet.disgenet.da_disgenet import da_disgenet"
   ]
  },
  {
   "cell_type": "code",
   "execution_count": 10,
   "metadata": {},
   "outputs": [
    {
     "name": "stdout",
     "output_type": "stream",
     "text": [
      "E-mail:········\n",
      "Password:········\n",
      "This is your user API key: 104af876204bb6ee6ffaf8a4f01c5add5bead3fc\n",
      "2022-01-18 16:43:28,950 [MainThread  ] [INFO ]  Request https://www.disgenet.org/api/disease/similarity/C0002395?limit=10&format=json launched, compiling\n",
      "2022-01-18 16:43:28,951 [MainThread  ] [INFO ]  Output file format: json\n",
      "2022-01-18 16:43:28,954 [MainThread  ] [INFO ]  Request: disease/similarity/C0002395?limit=10&format=json\n",
      "2022-01-18 16:43:28,955 [MainThread  ] [INFO ]  Format json\n"
     ]
    }
   ],
   "source": [
    "# Create and launch bb based by the similar diseases in the database\n",
    "da_disgenet(output_file_path=output_file_path, retrieve_by=retrieve_by, properties=prop)"
   ]
  },
  {
   "cell_type": "code",
   "execution_count": 11,
   "metadata": {},
   "outputs": [
    {
     "name": "stdout",
     "output_type": "stream",
     "text": [
      "[\r\n",
      "    {\r\n",
      "        \"ref_disease\": \"C0002395\",\r\n",
      "        \"disease_name\": \"Alzheimer's Disease\",\r\n",
      "        \"similar_diseases\": [\r\n",
      "            {\r\n",
      "                \"disease_id\": \"C0241816\",\r\n",
      "                \"disease_name\": \"Global brain atrophy\",\r\n",
      "                \"semantic_similarity_index\": 0.995430031540822\r\n",
      "            },\r\n",
      "            {\r\n",
      "                \"disease_id\": \"C0235946\",\r\n",
      "                \"disease_name\": \"Cerebral atrophy\",\r\n",
      "                \"semantic_similarity_index\": 0.986117367650573\r\n",
      "            },\r\n",
      "            {\r\n",
      "                \"disease_id\": null,\r\n",
      "                \"disease_name\": null,\r\n",
      "                \"semantic_similarity_index\": 0.983043247969328\r\n",
      "            },\r\n",
      "            {\r\n",
      "                \"disease_id\": \"C0494463\",\r\n",
      "                \"disease_name\": \"Alzheimer Disease, Late Onset\",\r\n",
      "                \"semantic_similarity_index\": 0.977507732877329\r\n",
      "            },\r\n",
      "            {\r\n",
      "                \"disease_id\": \"C0750901\",\r\n",
      "                \"disease_name\": \"Alzheimer Disease, Early Onset\",\r\n",
      "                \"semantic_similarity_index\": 0.977486900045362\r\n",
      "            },\r\n",
      "            {\r\n",
      "                \"disease_id\": \"C0600359\",\r\n",
      "                \"disease_name\": \"Arteriosclerotic Dementia\",\r\n",
      "                \"semantic_similarity_index\": 0.975666221602809\r\n",
      "            },\r\n",
      "            {\r\n",
      "                \"disease_id\": \"C0011263\",\r\n",
      "                \"disease_name\": \"Multi-infarct dementia\",\r\n",
      "                \"semantic_similarity_index\": 0.975310941498074\r\n",
      "            },\r\n",
      "            {\r\n",
      "                \"disease_id\": \"C0750900\",\r\n",
      "                \"disease_name\": \"Alzheimer's Disease, Focal Onset\",\r\n",
      "                \"semantic_similarity_index\": 0.974334202377271\r\n",
      "            },\r\n",
      "            {\r\n",
      "                \"disease_id\": null,\r\n",
      "                \"disease_name\": null,\r\n",
      "                \"semantic_similarity_index\": 0.974334202377271\r\n",
      "            },\r\n",
      "            {\r\n",
      "                \"disease_id\": \"C1863052\",\r\n",
      "                \"disease_name\": \"ALZHEIMER DISEASE, FAMILIAL, 1\",\r\n",
      "                \"semantic_similarity_index\": 0.974334202377271\r\n",
      "            }\r\n",
      "        ]\r\n",
      "    }\r\n",
      "]"
     ]
    }
   ],
   "source": [
    "!cat output_disease_attribute.json"
   ]
  },
  {
   "cell_type": "code",
   "execution_count": 12,
   "metadata": {},
   "outputs": [],
   "source": [
    "# Setting up prop and inputs/outputs for another request\n",
    "prop = {\n",
    "        'disease_id': 'C0002395',\n",
    "        'pvalue': '0.3',\n",
    "        'limit': '10',\n",
    "        'format': 'json'\n",
    "        }\n",
    "output_file_path='output_disease_disease'\n",
    "retrieve_by='variants'"
   ]
  },
  {
   "cell_type": "code",
   "execution_count": 13,
   "metadata": {},
   "outputs": [],
   "source": [
    "# Import module for Disease Disease attributes\n",
    "from biobb_disgenet.disgenet.dda_disgenet import dda_disgenet"
   ]
  },
  {
   "cell_type": "code",
   "execution_count": 14,
   "metadata": {},
   "outputs": [
    {
     "name": "stdout",
     "output_type": "stream",
     "text": [
      "2022-01-18 16:43:34,036 [MainThread  ] [INFO ]  DDA_disgenet: Parameter limit required present\n"
     ]
    },
    {
     "ename": "KeyError",
     "evalue": "'retrieve_by'",
     "output_type": "error",
     "traceback": [
      "\u001b[0;31m---------------------------------------------------------------------------\u001b[0m",
      "\u001b[0;31mKeyError\u001b[0m                                  Traceback (most recent call last)",
      "\u001b[0;32m<ipython-input-14-52679913e9a0>\u001b[0m in \u001b[0;36m<module>\u001b[0;34m\u001b[0m\n\u001b[1;32m      1\u001b[0m \u001b[0;31m# Create and launch bb based by disease variants in the database\u001b[0m\u001b[0;34m\u001b[0m\u001b[0;34m\u001b[0m\u001b[0;34m\u001b[0m\u001b[0m\n\u001b[0;32m----> 2\u001b[0;31m \u001b[0mdda_disgenet\u001b[0m\u001b[0;34m(\u001b[0m\u001b[0moutput_file_path\u001b[0m\u001b[0;34m=\u001b[0m\u001b[0moutput_file_path\u001b[0m\u001b[0;34m,\u001b[0m \u001b[0mretrieve_by\u001b[0m\u001b[0;34m=\u001b[0m\u001b[0mretrieve_by\u001b[0m\u001b[0;34m,\u001b[0m \u001b[0mproperties\u001b[0m\u001b[0;34m=\u001b[0m\u001b[0mprop\u001b[0m\u001b[0;34m)\u001b[0m\u001b[0;34m\u001b[0m\u001b[0;34m\u001b[0m\u001b[0m\n\u001b[0m",
      "\u001b[0;32m~/anaconda3/lib/python3.8/site-packages/biobb_disgenet-2.0.0-py3.8.egg/biobb_disgenet/disgenet/dda_disgenet.py\u001b[0m in \u001b[0;36mdda_disgenet\u001b[0;34m(retrieve_by, output_file_path, properties, **kwargs)\u001b[0m\n\u001b[1;32m    101\u001b[0m     execute the :meth:`launch() <template.template.Template.launch>` method.\"\"\"\n\u001b[1;32m    102\u001b[0m \u001b[0;34m\u001b[0m\u001b[0m\n\u001b[0;32m--> 103\u001b[0;31m     return DDA_disgenet(\n\u001b[0m\u001b[1;32m    104\u001b[0m                     \u001b[0mretrieve_by\u001b[0m\u001b[0;34m=\u001b[0m\u001b[0mretrieve_by\u001b[0m\u001b[0;34m,\u001b[0m\u001b[0;34m\u001b[0m\u001b[0;34m\u001b[0m\u001b[0m\n\u001b[1;32m    105\u001b[0m                     \u001b[0moutput_file_path\u001b[0m\u001b[0;34m=\u001b[0m\u001b[0moutput_file_path\u001b[0m\u001b[0;34m,\u001b[0m\u001b[0;34m\u001b[0m\u001b[0;34m\u001b[0m\u001b[0m\n",
      "\u001b[0;32m~/anaconda3/lib/python3.8/site-packages/biobb_common-3.7.0-py3.8.egg/biobb_common/tools/file_utils.py\u001b[0m in \u001b[0;36mwrapper_log\u001b[0;34m(*args, **kwargs)\u001b[0m\n\u001b[1;32m    295\u001b[0m         args[0].out_log, args[0].err_log = get_logs(path=args[0].path, prefix=args[0].prefix, step=args[0].step,\n\u001b[1;32m    296\u001b[0m                                                     can_write_console=args[0].can_write_console_log)\n\u001b[0;32m--> 297\u001b[0;31m         \u001b[0mvalue\u001b[0m \u001b[0;34m=\u001b[0m \u001b[0mfunc\u001b[0m\u001b[0;34m(\u001b[0m\u001b[0;34m*\u001b[0m\u001b[0margs\u001b[0m\u001b[0;34m,\u001b[0m \u001b[0;34m**\u001b[0m\u001b[0mkwargs\u001b[0m\u001b[0;34m)\u001b[0m\u001b[0;34m\u001b[0m\u001b[0;34m\u001b[0m\u001b[0m\n\u001b[0m\u001b[1;32m    298\u001b[0m         \u001b[0mhandlers\u001b[0m \u001b[0;34m=\u001b[0m \u001b[0margs\u001b[0m\u001b[0;34m[\u001b[0m\u001b[0;36m0\u001b[0m\u001b[0;34m]\u001b[0m\u001b[0;34m.\u001b[0m\u001b[0mout_log\u001b[0m\u001b[0;34m.\u001b[0m\u001b[0mhandlers\u001b[0m\u001b[0;34m[\u001b[0m\u001b[0;34m:\u001b[0m\u001b[0;34m]\u001b[0m  \u001b[0;31m# Create a copy [:] of the handler list to be able to modify it while we are iterating\u001b[0m\u001b[0;34m\u001b[0m\u001b[0;34m\u001b[0m\u001b[0m\n\u001b[1;32m    299\u001b[0m         \u001b[0;32mfor\u001b[0m \u001b[0mhandler\u001b[0m \u001b[0;32min\u001b[0m \u001b[0mhandlers\u001b[0m\u001b[0;34m:\u001b[0m\u001b[0;34m\u001b[0m\u001b[0;34m\u001b[0m\u001b[0m\n",
      "\u001b[0;32m~/anaconda3/lib/python3.8/site-packages/biobb_disgenet-2.0.0-py3.8.egg/biobb_disgenet/disgenet/dda_disgenet.py\u001b[0m in \u001b[0;36mlaunch\u001b[0;34m(self)\u001b[0m\n\u001b[1;32m     92\u001b[0m \u001b[0;34m\u001b[0m\u001b[0m\n\u001b[1;32m     93\u001b[0m         \u001b[0;31m#Try1 function\u001b[0m\u001b[0;34m\u001b[0m\u001b[0;34m\u001b[0m\u001b[0;34m\u001b[0m\u001b[0m\n\u001b[0;32m---> 94\u001b[0;31m         \u001b[0mresponse\u001b[0m \u001b[0;34m=\u001b[0m \u001b[0mdda_session\u001b[0m\u001b[0;34m(\u001b[0m\u001b[0mself\u001b[0m\u001b[0;34m.\u001b[0m\u001b[0mio_dict\u001b[0m\u001b[0;34m[\u001b[0m\u001b[0;34m\"in\"\u001b[0m\u001b[0;34m]\u001b[0m\u001b[0;34m[\u001b[0m\u001b[0;34m\"retrieve_by\"\u001b[0m\u001b[0;34m]\u001b[0m\u001b[0;34m,\u001b[0m \u001b[0mself\u001b[0m\u001b[0;34m.\u001b[0m\u001b[0mproperties\u001b[0m\u001b[0;34m,\u001b[0m \u001b[0mself\u001b[0m\u001b[0;34m.\u001b[0m\u001b[0mout_log\u001b[0m\u001b[0;34m,\u001b[0m \u001b[0mself\u001b[0m\u001b[0;34m.\u001b[0m\u001b[0mglobal_log\u001b[0m\u001b[0;34m)\u001b[0m\u001b[0;34m\u001b[0m\u001b[0;34m\u001b[0m\u001b[0m\n\u001b[0m\u001b[1;32m     95\u001b[0m         \u001b[0mnew_keys\u001b[0m\u001b[0;34m,\u001b[0m \u001b[0mrequest\u001b[0m \u001b[0;34m=\u001b[0m \u001b[0mextension_request\u001b[0m\u001b[0;34m(\u001b[0m\u001b[0mresponse\u001b[0m\u001b[0;34m,\u001b[0m \u001b[0mself\u001b[0m\u001b[0;34m.\u001b[0m\u001b[0mio_dict\u001b[0m\u001b[0;34m[\u001b[0m\u001b[0;34m\"in\"\u001b[0m\u001b[0;34m]\u001b[0m\u001b[0;34m[\u001b[0m\u001b[0;34m\"retrieve_by\"\u001b[0m\u001b[0;34m]\u001b[0m\u001b[0;34m,\u001b[0m \u001b[0mself\u001b[0m\u001b[0;34m.\u001b[0m\u001b[0mproperties\u001b[0m\u001b[0;34m)\u001b[0m\u001b[0;34m\u001b[0m\u001b[0;34m\u001b[0m\u001b[0m\n\u001b[1;32m     96\u001b[0m         \u001b[0mauth_session\u001b[0m\u001b[0;34m(\u001b[0m\u001b[0mrequest\u001b[0m\u001b[0;34m,\u001b[0m \u001b[0mnew_keys\u001b[0m\u001b[0;34m,\u001b[0m \u001b[0moutput_path\u001b[0m\u001b[0;34m,\u001b[0m \u001b[0mself\u001b[0m\u001b[0;34m.\u001b[0m\u001b[0mout_log\u001b[0m\u001b[0;34m,\u001b[0m \u001b[0mself\u001b[0m\u001b[0;34m.\u001b[0m\u001b[0mglobal_log\u001b[0m\u001b[0;34m)\u001b[0m\u001b[0;34m\u001b[0m\u001b[0;34m\u001b[0m\u001b[0m\n",
      "\u001b[0;31mKeyError\u001b[0m: 'retrieve_by'"
     ]
    }
   ],
   "source": [
    "# Create and launch bb based by disease variants in the database\n",
    "dda_disgenet(output_file_path=output_file_path, retrieve_by=retrieve_by, properties=prop)"
   ]
  },
  {
   "cell_type": "code",
   "execution_count": null,
   "metadata": {},
   "outputs": [],
   "source": [
    "!cat output_disease_disease.json"
   ]
  },
  {
   "cell_type": "markdown",
   "metadata": {},
   "source": [
    "# Container execution\n",
    "\n",
    "## Docker"
   ]
  },
  {
   "cell_type": "code",
   "execution_count": null,
   "metadata": {},
   "outputs": [],
   "source": [
    "# Create prop dict and inputs/outputs\n",
    "prop = {\n",
    "    \"boolean_property\": False,\n",
    "    \"remove_tmp\": True,\n",
    "    \"container_path\": \"docker\",\n",
    "    \"container_image\": \"mmbirb/zip:latest\",\n",
    "    \"container_volume_path\": \"/tmp\"\n",
    "}\n",
    "\n",
    "input_file_path1 = '../../test/data/template/topology.top'\n",
    "input_file_path2 = '../../test/data/template/trajectory.dcd'\n",
    "output_file_path = 'output.docker.zip'"
   ]
  },
  {
   "cell_type": "code",
   "execution_count": null,
   "metadata": {},
   "outputs": [],
   "source": [
    "# Import module\n",
    "from template.template_container import template_container"
   ]
  },
  {
   "cell_type": "code",
   "execution_count": null,
   "metadata": {},
   "outputs": [],
   "source": [
    "# Create and launch bb\n",
    "template_container(input_file_path1=input_file_path1, \n",
    "         input_file_path2=input_file_path2, \n",
    "         output_file_path=output_file_path, \n",
    "         properties=prop)"
   ]
  },
  {
   "cell_type": "code",
   "execution_count": null,
   "metadata": {},
   "outputs": [],
   "source": [
    "# Show log\n",
    "!cat log.out"
   ]
  },
  {
   "cell_type": "code",
   "execution_count": null,
   "metadata": {},
   "outputs": [],
   "source": [
    "# Unzip output file\n",
    "!unzip output.docker.zip"
   ]
  },
  {
   "cell_type": "code",
   "execution_count": null,
   "metadata": {},
   "outputs": [],
   "source": [
    "# List folder content\n",
    "!ls -la"
   ]
  },
  {
   "cell_type": "markdown",
   "metadata": {},
   "source": [
    "## Singularity"
   ]
  },
  {
   "cell_type": "code",
   "execution_count": null,
   "metadata": {},
   "outputs": [],
   "source": [
    "# Create prop dict and inputs/outputs\n",
    "prop = {\n",
    "    \"boolean_property\": False,\n",
    "    \"remove_tmp\": True,\n",
    "    \"executable_binary_property\": \"/opt/conda/bin/zip\",\n",
    "    \"container_path\": \"singularity\",\n",
    "    \"container_image\": \"shub://bioexcel/zip_container\",\n",
    "    \"container_volume_path\": \"/tmp\"\n",
    "}\n",
    "\n",
    "input_file_path1 = '../../test/data/template/topology.top'\n",
    "input_file_path2 = '../../test/data/template/trajectory.dcd'\n",
    "output_file_path = 'output.singularity.zip'"
   ]
  },
  {
   "cell_type": "code",
   "execution_count": null,
   "metadata": {},
   "outputs": [],
   "source": [
    "# Import module\n",
    "from template.template_container import template_container"
   ]
  },
  {
   "cell_type": "code",
   "execution_count": null,
   "metadata": {},
   "outputs": [],
   "source": [
    "# Create and launch bb\n",
    "template_container(input_file_path1=input_file_path1, \n",
    "         input_file_path2=input_file_path2, \n",
    "         output_file_path=output_file_path, \n",
    "         properties=prop)"
   ]
  },
  {
   "cell_type": "code",
   "execution_count": null,
   "metadata": {},
   "outputs": [],
   "source": [
    "# Show log\n",
    "!cat log.out"
   ]
  },
  {
   "cell_type": "code",
   "execution_count": null,
   "metadata": {},
   "outputs": [],
   "source": [
    "# Unzip output file\n",
    "!unzip output.singularity.zip"
   ]
  },
  {
   "cell_type": "code",
   "execution_count": null,
   "metadata": {},
   "outputs": [],
   "source": [
    "# List folder content\n",
    "!ls -la"
   ]
  }
 ],
 "metadata": {
  "kernelspec": {
   "display_name": "Python 3",
   "language": "python",
   "name": "python3"
  },
  "language_info": {
   "codemirror_mode": {
    "name": "ipython",
    "version": 3
   },
   "file_extension": ".py",
   "mimetype": "text/x-python",
   "name": "python",
   "nbconvert_exporter": "python",
   "pygments_lexer": "ipython3",
   "version": "3.8.8"
  }
 },
 "nbformat": 4,
 "nbformat_minor": 2
}
