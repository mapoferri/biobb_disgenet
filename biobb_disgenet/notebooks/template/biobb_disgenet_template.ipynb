{
 "cells": [
  {
   "cell_type": "markdown",
   "metadata": {},
   "source": [
    "# Common execution"
   ]
  },
  {
   "cell_type": "code",
   "execution_count": null,
   "metadata": {},
   "outputs": [],
   "source": [
    "# Activate the env before launching the template"
   ]
  },
  {
   "cell_type": "code",
   "execution_count": 8,
   "metadata": {},
   "outputs": [],
   "source": [
    "# Create prop dict and inputs/outputs\n",
    "prop = {\n",
    "    \"disease_id\": \"C0002395\",\n",
    "    \"min_score\": \"0.2\",\n",
    "    \"max_score\": \"0.8\",\n",
    "    \"limit\":\"10\",\n",
    "    \"format\":\"json\"\n",
    "}\n",
    "\n",
    "retrieve_by = 'evidences'\n",
    "output_file_path = 'output_genes'"
   ]
  },
  {
   "cell_type": "code",
   "execution_count": 9,
   "metadata": {},
   "outputs": [],
   "source": [
    "# Import module\n",
    "from biobb_disgenet.disgenet.vda_disgenet import vda_disgenet"
   ]
  },
  {
   "cell_type": "code",
   "execution_count": 10,
   "metadata": {},
   "outputs": [
    {
     "name": "stdout",
     "output_type": "stream",
     "text": [
      "2022-01-18 15:58:35,610 [MainThread  ] [INFO ]  Request: vda/evidences/disease/C0002395\n",
      "E-mail:········\n",
      "Password:········\n",
      "This is your user API key: 104af876204bb6ee6ffaf8a4f01c5add5bead3fc\n",
      "2022-01-18 15:58:43,385 [MainThread  ] [INFO ]  Request https://www.disgenet.org/api/vda/evidences/disease/C0002395?min_score=0.2&max_score=0.8&limit=10&format=json launched, compiling\n",
      "2022-01-18 15:58:43,386 [MainThread  ] [INFO ]  Output file format: json\n",
      "2022-01-18 15:58:43,388 [MainThread  ] [INFO ]  Request: vda/evidences/disease/C0002395?min_score=0.2&max_score=0.8&limit=10&format=json\n",
      "2022-01-18 15:58:43,389 [MainThread  ] [INFO ]  Format json\n"
     ]
    }
   ],
   "source": [
    "# Create and launch bb\n",
    "vda_disgenet(output_file_path=output_file_path, retrieve_by=retrieve_by, properties=prop)"
   ]
  },
  {
   "cell_type": "code",
   "execution_count": 11,
   "metadata": {},
   "outputs": [
    {
     "name": "stdout",
     "output_type": "stream",
     "text": [
      "2022-01-18 15:56:18,902 [MainThread  ] [INFO ]  Request: vda/output_genes/C0002395\r\n",
      "2022-01-18 15:56:31,676 [MainThread  ] [INFO ]  Request https://www.disgenet.org/api/vda/output_genes/C0002395?min_score=0.2&max_score=0.8&limit=10&format=json launched, compiling\r\n",
      "2022-01-18 15:56:31,676 [MainThread  ] [INFO ]  Output file format: json\r\n"
     ]
    }
   ],
   "source": [
    "# Show log\n",
    "!cat log.out"
   ]
  },
  {
   "cell_type": "code",
   "execution_count": null,
   "metadata": {},
   "outputs": [],
   "source": [
    "# Unzip output file\n",
    "#!unzip output.zip"
   ]
  },
  {
   "cell_type": "code",
   "execution_count": 12,
   "metadata": {},
   "outputs": [
    {
     "name": "stdout",
     "output_type": "stream",
     "text": [
      "total 56\r\n",
      "drwxr-xr-x 3 bscuser users  4096 ene 18 15:58 .\r\n",
      "drwxr-xr-x 3 bscuser users  4096 oct 13 01:00 ..\r\n",
      "-rw-r--r-- 1 bscuser users 19752 ene 18 15:57 biobb_disgenet_template.ipynb\r\n",
      "drwxr-xr-x 2 bscuser users  4096 ene 18 15:45 .ipynb_checkpoints\r\n",
      "-rw-r--r-- 1 bscuser users     0 ene 18 15:57 log1.err\r\n",
      "-rw-r--r-- 1 bscuser users   336 ene 18 15:57 log1.out\r\n",
      "-rw-r--r-- 1 bscuser users     0 ene 18 15:57 log2.err\r\n",
      "-rw-r--r-- 1 bscuser users   336 ene 18 15:58 log2.out\r\n",
      "-rw-r--r-- 1 bscuser users     0 ene 18 15:58 log3.err\r\n",
      "-rw-r--r-- 1 bscuser users   543 ene 18 15:58 log3.out\r\n",
      "-rw-r--r-- 1 bscuser users     0 ene 18 15:56 log.err\r\n",
      "-rw-r--r-- 1 bscuser users   336 ene 18 15:56 log.out\r\n",
      "-rw-r--r-- 1 bscuser users  5277 ene 18 15:58 output_genes.json\r\n"
     ]
    }
   ],
   "source": [
    "# List folder content\n",
    "!ls -la"
   ]
  },
  {
   "cell_type": "markdown",
   "metadata": {},
   "source": [
    "# Container execution\n",
    "\n",
    "## Docker"
   ]
  },
  {
   "cell_type": "code",
   "execution_count": null,
   "metadata": {},
   "outputs": [],
   "source": [
    "# Create prop dict and inputs/outputs\n",
    "prop = {\n",
    "    \"boolean_property\": False,\n",
    "    \"remove_tmp\": True,\n",
    "    \"container_path\": \"docker\",\n",
    "    \"container_image\": \"mmbirb/zip:latest\",\n",
    "    \"container_volume_path\": \"/tmp\"\n",
    "}\n",
    "\n",
    "input_file_path1 = '../../test/data/template/topology.top'\n",
    "input_file_path2 = '../../test/data/template/trajectory.dcd'\n",
    "output_file_path = 'output.docker.zip'"
   ]
  },
  {
   "cell_type": "code",
   "execution_count": null,
   "metadata": {},
   "outputs": [],
   "source": [
    "# Import module\n",
    "from template.template_container import template_container"
   ]
  },
  {
   "cell_type": "code",
   "execution_count": null,
   "metadata": {},
   "outputs": [],
   "source": [
    "# Create and launch bb\n",
    "template_container(input_file_path1=input_file_path1, \n",
    "         input_file_path2=input_file_path2, \n",
    "         output_file_path=output_file_path, \n",
    "         properties=prop)"
   ]
  },
  {
   "cell_type": "code",
   "execution_count": null,
   "metadata": {},
   "outputs": [],
   "source": [
    "# Show log\n",
    "!cat log.out"
   ]
  },
  {
   "cell_type": "code",
   "execution_count": null,
   "metadata": {},
   "outputs": [],
   "source": [
    "# Unzip output file\n",
    "!unzip output.docker.zip"
   ]
  },
  {
   "cell_type": "code",
   "execution_count": null,
   "metadata": {},
   "outputs": [],
   "source": [
    "# List folder content\n",
    "!ls -la"
   ]
  },
  {
   "cell_type": "markdown",
   "metadata": {},
   "source": [
    "## Singularity"
   ]
  },
  {
   "cell_type": "code",
   "execution_count": null,
   "metadata": {},
   "outputs": [],
   "source": [
    "# Create prop dict and inputs/outputs\n",
    "prop = {\n",
    "    \"boolean_property\": False,\n",
    "    \"remove_tmp\": True,\n",
    "    \"executable_binary_property\": \"/opt/conda/bin/zip\",\n",
    "    \"container_path\": \"singularity\",\n",
    "    \"container_image\": \"shub://bioexcel/zip_container\",\n",
    "    \"container_volume_path\": \"/tmp\"\n",
    "}\n",
    "\n",
    "input_file_path1 = '../../test/data/template/topology.top'\n",
    "input_file_path2 = '../../test/data/template/trajectory.dcd'\n",
    "output_file_path = 'output.singularity.zip'"
   ]
  },
  {
   "cell_type": "code",
   "execution_count": null,
   "metadata": {},
   "outputs": [],
   "source": [
    "# Import module\n",
    "from template.template_container import template_container"
   ]
  },
  {
   "cell_type": "code",
   "execution_count": null,
   "metadata": {},
   "outputs": [],
   "source": [
    "# Create and launch bb\n",
    "template_container(input_file_path1=input_file_path1, \n",
    "         input_file_path2=input_file_path2, \n",
    "         output_file_path=output_file_path, \n",
    "         properties=prop)"
   ]
  },
  {
   "cell_type": "code",
   "execution_count": null,
   "metadata": {},
   "outputs": [],
   "source": [
    "# Show log\n",
    "!cat log.out"
   ]
  },
  {
   "cell_type": "code",
   "execution_count": null,
   "metadata": {},
   "outputs": [],
   "source": [
    "# Unzip output file\n",
    "!unzip output.singularity.zip"
   ]
  },
  {
   "cell_type": "code",
   "execution_count": null,
   "metadata": {},
   "outputs": [],
   "source": [
    "# List folder content\n",
    "!ls -la"
   ]
  }
 ],
 "metadata": {
  "kernelspec": {
   "display_name": "Python 3",
   "language": "python",
   "name": "python3"
  },
  "language_info": {
   "codemirror_mode": {
    "name": "ipython",
    "version": 3
   },
   "file_extension": ".py",
   "mimetype": "text/x-python",
   "name": "python",
   "nbconvert_exporter": "python",
   "pygments_lexer": "ipython3",
   "version": "3.8.8"
  }
 },
 "nbformat": 4,
 "nbformat_minor": 2
}
